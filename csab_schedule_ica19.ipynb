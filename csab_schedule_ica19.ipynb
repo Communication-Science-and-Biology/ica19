{
 "cells": [
  {
   "cell_type": "code",
   "execution_count": null,
   "metadata": {},
   "outputs": [],
   "source": [
    "# This notebook provides details the ICA19 CSaB conference schedule\n",
    "# We are pleased two announce:\n",
    "    # Six sessions\n",
    "    # One interactive poster session\n",
    "    # A business meeting\n",
    "    # Joint reception with Information Systems, Computational Methods, and Game Studies\n",
    "\n",
    "# This code must be able to run on the CSaB Website (http://csab.commscience.org/announcements/)"
   ]
  },
  {
   "cell_type": "code",
   "execution_count": null,
   "metadata": {},
   "outputs": [],
   "source": [
    "# Run cell to see details for session one\n",
    "def session_one():\n",
    "    details = ('The Biology of Health, Fear, and Risk Perceptions','SATURDAY, MAY 25, 2019','9:30 AM - 10:45 AM','Monroe (Washington Hilton, Concourse Level)\\n')\n",
    "    talks = ('Neural synchrony during reception of real life anti-alcohol health messages\\n','Smokers’ attitudes toward smoking: How self-affirming prior to viewing graphic cigarette warning labels affects explicit and implicit attitudes\\n','Impressions of HIV risk online: Brain potentials while viewing online dating profiles\\n','Differentiating between experiential and affective risk perception: An exploratory approach to substantiating the tripartite model\\n','Is It Painful? Playing Violent Video Games Affects ERP Brain Responses to Painful Pictures\\n','The coupled brains of captivated audiences: An investigation of the collective brain dynamics of an audience watching a suspenseful film\\n','Measuring Psychophysiological Effects of Sound and Video in a Suspenseful Film Using Integrated Reception Process Analysis\\n')\n",
    "    authors = ('Martin Imhof; Ralf Schmaelzle; Britta Renner; Harald Schupp\\n','Irina A. Iles; Xiaoli Nan; Zexin Ma; James Butler; Robert Feldman; Min Qi Wang\\n','Ralf Schmaelzle; Martin Imhof; Anna Kenter; Britta Renner; Harald Schupp\\n','Yi-Hui C. Huang; Qiudi Wu; Xiao Wang; Ivy Wai Yin Fong\\n','Ewa Miedzobrodzka; Johanna C. van Hooff; Elly A. Konijn; Lydia C. Krabbendam\\n','Ralf Schmaelzle; Clare Grall\\n','Gary Bente; Kevin Kryston; Melinda R. Aley; Minjin (MJ) Rheu')\n",
    "    for d in details:\n",
    "        print(d)\n",
    "    for t in zip(talks,authors):\n",
    "        print(*t)\n",
    "\n",
    "session_one()"
   ]
  },
  {
   "cell_type": "code",
   "execution_count": null,
   "metadata": {},
   "outputs": [],
   "source": [
    "# Run cell to see details for session three\n",
    "def session_two():\n",
    "    details = ('Sex, Mating, and Evolution in Media Psychology','SUNDAY, MAY 26, 2019','2:00 PM - 3:15 PM','Oaklawn (Washington Hilton, Lobby Level)\\n')\n",
    "    talks = ('Audience Differences in Stigma-Message Effects: Investigating Moderators of the Model of Stigma Communication\\n','Exploring Links Between Testosterone, Benevolent Sexism, and Rape Myth Acceptance\\n', 'An Integrated Approach to Female Mate Preferences: Testing Evolved Preferences for Male Displays of Dominance and Altruism in Online Dating Profiles\\n','Life History Theory and Individual Variation in Men’s Desire to Appear Muscular\\n','Health Status Can be Judged From the Voice, and More Accurately From Mandarin than English\\n','The decisive fine line - a metaanalytic review on biological variables related to sex differences in media selection, use and effects\\n','Les Prospérités du vice? A research project about female hardcore pornography preferences\\n')\n",
    "    authors = ('Rachel Smith\\n', 'Kara L. Winkler; Amanda Denes; John P. Crowley; Margaret Bennett; Anuraj Dhillon; Ambyre L. Ponivas\\n','Stephanie T. Tong; Robert G. Matheny\\n','Alexander K. Aune\\n','Afsoon D. Hansia; Scott Reid\\n','Maximilian T. von Andrian-Werburg; Liv Bierhalter; Iris Guehring; Benjamin P. Lange\\n','Maximilian T. von Andrian-Werburg; Sascha Schwarz; Benjamin P. Lange; Liv Bierhalter; Pauline Zahn; Frank Schwab')\n",
    "    for d in details:\n",
    "        print(d)\n",
    "    for t in zip(talks,authors):\n",
    "        print(*t)\n",
    "        \n",
    "session_two()"
   ]
  },
  {
   "cell_type": "code",
   "execution_count": null,
   "metadata": {},
   "outputs": [],
   "source": [
    "# Run cell to see details for session four\n",
    "def session_three():\n",
    "    details = ('Biology, Politics, and Morality','MONDAY, MAY 27, 2019','9:30 AM - 10:45 AM','Monroe (Washington Hilton, Concourse Level)\\n')\n",
    "    talks = ('Can we decode the polarity of subjective evaluative reactions from fMRI data? Not yet\\n','Inferring the speech envelope from EEG data during listening. What’s in it for Communication Neuroscience?\\n','Hot or not: The physiological responses to political communication\\n','Ideological differences in negativity biases? Two replications of the association between negativity biases and ideology\\n','Toward an Integrative Model of Communication as Creating Understanding\\n','Revisiting the Moral Foundations-Affect Misattribution Procedure (MF-AMP): An Extended, Open-Source Tool for Measuring the Accessibility of Moral Intuitions\\n','Neural correlates of political efficacy: Brain activity in response to civic information associated with political efficacy\\n')\n",
    "    authors = ('Ralf Schmaelzle; Clare Grall\\n','Ralf Schmaelzle\\n','Bert Bakker; Gijs Schumacher; Matthijs Rooduijn\\n','Bert Bakker; Kevin Arceneaux\\n','Jessica Gasiorek; Robert K. Aune\\n','Frederic R. Hopp; Jacob T. Fisher; Sujay Prabhu; Devin Cornell; Ron Tamborini; Rene Weber\\n','Prateekshit Pandey')\n",
    "    for d in details:\n",
    "        print(d)\n",
    "    for t in zip(talks,authors):\n",
    "        print(*t)\n",
    "\n",
    "session_three()"
   ]
  },
  {
   "cell_type": "code",
   "execution_count": null,
   "metadata": {},
   "outputs": [],
   "source": [
    "# Run cell to see details for session five\n",
    "def session_four():\n",
    "    details = ('Foundations of Media Effects in Communication Science and Biology','MONDAY, MAY 27, 2019','2:00 PM - 3:15 PM','Monroe (Washington Hilton, Concourse Level)\\n')\n",
    "    talks = ('Changes in an Individual’s Approach System Activation and Defense System Activation\\n','An experimental study of the relationship between emotional flow, physiological indicators, and self-reported outcomes\\n','All Load is Not Equal: Disentangling the Roles of Reward and Process Type on Resource Allocation in an Interactive Task\\n','Brain Network Topology and Dynamics in ADHD Individuals During Video Game Play\\n','The effect of pre-sleep social media consumption and relaxation on memory consolidation\\n','The Television Use of Owls and Larks, Chronotype as a chronobiological predictor of media use, a Three Study Exploration\\n','What’s in a name? Tracing the conceptualization of narratives in communication science\\n')\n",
    "    authors = ('Justin R. Keene; Kallie Barley; Christina J. Najera; Collin K. Berke\\n','Alexander Ort; Perina E. Siegenthaler; Andreas Fahr\\n','Jacob T. Fisher; Frederic R. Hopp; Rene Weber\\n','Jacob T. Fisher; Frederic R. Hopp; Chelsea Lonergan; Rene Weber\\n','Selina L. Combertaldi; Andreas Fahr; Björn Rasch\\n','an Van den Bulck; Liese Exelmans\\n','Elena Pelzer; Benjamin O. Turner; Deborah Castro')\n",
    "    for d in details:\n",
    "        print(d)\n",
    "    for t in zip(talks,authors):\n",
    "        print(*t)\n",
    "\n",
    "\n",
    "session_four()"
   ]
  },
  {
   "cell_type": "code",
   "execution_count": null,
   "metadata": {},
   "outputs": [],
   "source": [
    "# Run cell to see details for session six\n",
    "def session_five():\n",
    "    details = ('Best Practices in Training and Mentoring New Graduate Students and Research Assistants on Practical Replication and Data Sharing Issues','MONDAY, MAY 27, 2019','3:30 PM - 4:45 PM','Georgetown East (Washington Hilton, Concourse Level)\\n')\n",
    "    talks = ('Best practices in training and mentoring new graduate students and research assistants on practical replication and data sharing issues\\n','Flow Dynamics During Naturalistic Gameplay: Results from Two Behavioral and one fMRI Studies\\n', 'Embodied Processing of Emotional Content in Traffic Safety Videos\\n','Encouraging Content Sharing Irrespective of Content Characteristics: A Neuroscientifically Informed Intervention to Enhance the Social Diffusion of News\\n','Is Fear of God’s Wrath Good for Society? Correlation between Religious Belief, Fear, and Stress\\n')\n",
    "    authors = ('Jacob Fisher; Chelsea Lonergan; Frederic Hopp; Clare Grall; Prateekshit Pandey; Christin Scholz; Christina Najera; Shelby Wilcox; Neil Lewis; Tino Meitz; Andrea Won\\n','Richard Huskey; Justin R. Keene; Shelby Wilcox; Robyn B. Adams; Christina J. Najera; Natalie Petit\\n','Marcia Howell; Paul Bolls\\n','Christin Scholz\\n','Chen-Ting Chang')\n",
    "    for d in details:\n",
    "        print(d)\n",
    "    for t in zip(talks,authors):\n",
    "        print(*t)\n",
    "\n",
    "session_five()"
   ]
  },
  {
   "cell_type": "code",
   "execution_count": null,
   "metadata": {},
   "outputs": [],
   "source": [
    "# Run cell to see details for session seven\n",
    "def session_six():\n",
    "    details = ('The Social Life of the Brain: Norms and Networks','TUESDAY, MAY 28, 2019','8:00 AM - 9:15 AM','Van Ness (Washington Hilton, First Floor)\\n')\n",
    "    talks = ('Information virality is reflected in a distributed neural representation of value\\n','The motivated processing of mediated social appeals: Empirical evidence and conceptual model\\n','Neural correlates of social norms\\n','Are neural mechanisms associated with social feedback and conformity different among teens and young adults?\\n','Response Inhibition in Adolescents is Moderated by Brain Connectivity and Social Network Structure\\n','Neural activity during risky decision making reflects online social network clustering structure\\n','Social influence shapes neurobehavioral correlates of risky driving performance\\n')\n",
    "    authors = ('Bruce P. Dore; Christin Scholz; Elisa C. Baek; Emily B. Falk\\n','Lelia Samson\\n','Christopher N. Cascio; Xinyi Wang; Matthew B. O\\'Donnell; Emily B. Falk\\n','Christopher N. Cascio; Rui Pei; Emily B. Falk\\n','Steven Tompson; Emily B. Falk; Matthew B. O\\'Donnell; Christopher N. Cascio; Joseph Bayer; Jean Vettel; Danielle S. Bassett\\n','Rui Pei; Nina Lauharatanahirun; Christopher N. Cascio; Matthew B. O\\'Donnell; Jean Vettel; Emily B. Falk\\n','Nina Lauharatanahirun; Javier Garcia; Nick Wasylyshyn; Heather Roy; Matthew O\\'Donnell; Robert Fernandez; Tony Johnson; Jason Metcalfe; Emily B. Falk; Jean Vettel')\n",
    "    for d in details:\n",
    "        print(d)\n",
    "    for t in zip(talks,authors):\n",
    "        print(*t)\n",
    "\n",
    "session_six()"
   ]
  },
  {
   "cell_type": "code",
   "execution_count": null,
   "metadata": {},
   "outputs": [],
   "source": [
    "# Run cell to see details for session two\n",
    "def poster_session():\n",
    "    details = ('Communication Science and Biology Interactive Poster Session','SATURDAY, MAY 25, 2019','12:30 PM - 1:45 PM','International Terrace (Washington Hilton, Terrace Level)\\n')\n",
    "    talks = ('Stars at giveaway prices? Effects of celebrity, lookalike and avatar endorsers in advertising\\n','Celebrity bashing and empathy - intranasal oxytocin administration reduces the acceptance for online celebrity bashing\\n','The Effect of Scent and Scent Emission Methods: Implications on Sustained Workers’ Alertness, Vigilance, and Memory When Performing Repetitive Tasks Over a Long Duration\\n')\n",
    "    authors = ('Seo Young-nam; Minkyung Kim; Jeremy Sng; Doohwang Lee; Younbo Jung\\n','Konrad J. Rudnicki; Gaëlle Ouvrein; Charlotte De backer\\n','May O. Lwin; Shelly Malik; Jun Rong Jeffrey Neo')\n",
    "    for d in details:\n",
    "        print(d)\n",
    "    for t in zip(talks,authors):\n",
    "        print(*t)\n",
    "        \n",
    "poster_session()"
   ]
  },
  {
   "cell_type": "code",
   "execution_count": null,
   "metadata": {},
   "outputs": [],
   "source": [
    "# Run cell to see details for business meeting\n",
    "def business_meeting():\n",
    "    details = ('Communication Science and Biology Business Meeting','MONDAY, MAY 27, 2019','5:00 PM - 6:15 PM','Georgetown East (Washington Hilton, Concourse Level)')\n",
    "    for d in details:\n",
    "        print(d)\n",
    "        \n",
    "business_meeting()"
   ]
  },
  {
   "cell_type": "code",
   "execution_count": null,
   "metadata": {},
   "outputs": [],
   "source": [
    "# Run cell to see details for joint reception\n",
    "def reception():\n",
    "    details = ('Joint reception with Information Systems, Computational Methods, and Game Studies','SUNDAY, MAY 26, 2019','6:00pm - Late','Madhatter (1319 Connecticut Ave NW, Washington, DC 20036)','http://www.madhatterdc.com/')\n",
    "    for d in details:\n",
    "        print(d)\n",
    "        \n",
    "reception()"
   ]
  }
 ],
 "metadata": {
  "kernelspec": {
   "display_name": "Python 3",
   "language": "python",
   "name": "python3"
  },
  "language_info": {
   "codemirror_mode": {
    "name": "ipython",
    "version": 3
   },
   "file_extension": ".py",
   "mimetype": "text/x-python",
   "name": "python",
   "nbconvert_exporter": "python",
   "pygments_lexer": "ipython3",
   "version": "3.6.5"
  }
 },
 "nbformat": 4,
 "nbformat_minor": 2
}
