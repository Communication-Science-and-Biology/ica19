{
 "cells": [
  {
   "cell_type": "code",
   "execution_count": null,
   "metadata": {},
   "outputs": [],
   "source": [
    "# Details for session one\n",
    "def session_one():\n",
    "    details = ('The Biology of Health, Fear, and Risk Perceptions','SATURDAY, MAY 25, 2019','9:30 AM - 10:45 AM','Monroe (Washington Hilton, Concourse Level)\\n')\n",
    "    talks = ('Neural synchrony during reception of real life anti-alcohol health messages \\n','Smokers’ attitudes toward smoking: How self-affirming prior to viewing graphic cigarette warning labels affects explicit and implicit attitudes \\n','Impressions of HIV risk online: Brain potentials while viewing online dating profiles \\n','Differentiating between experiential and affective risk perception: An exploratory approach to substantiating the tripartite model \\n','Is It Painful? Playing Violent Video Games Affects ERP Brain Responses to Painful Pictures \\n','The coupled brains of captivated audiences: An investigation of the collective brain dynamics of an audience watching a suspenseful film \\n','Measuring Psychophysiological Effects of Sound and Video in a Suspenseful Film Using Integrated Reception Process Analysis \\n')\n",
    "    authors = ('Martin Imhof; Ralf Schmaelzle; Britta Renner; Harald Schupp \\n','Irina A. Iles; Xiaoli Nan; Zexin Ma; James Butler; Robert Feldman; Min Qi Wang\\n','Ralf Schmaelzle; Martin Imhof; Anna Kenter; Britta Renner; Harald Schupp\\n','Yi-Hui C. Huang; Qiudi Wu; Xiao Wang; Ivy Wai Yin Fong\\n','Ewa Miedzobrodzka; Johanna C. van Hooff; Elly A. Konijn; Lydia C. Krabbendam\\n','Ralf Schmaelzle; Clare Grall\\n','Gary Bente; Kevin Kryston; Melinda R. Aley; Minjin (MJ) Rheu')\n",
    "    for d in details:\n",
    "        print(d)\n",
    "    for t in zip(talks,authors):\n",
    "        print(*t)"
   ]
  },
  {
   "cell_type": "code",
   "execution_count": null,
   "metadata": {},
   "outputs": [],
   "source": [
    "# Details for session two\n",
    "def session_two():\n",
    "    details = ('Communication Science and Biology Interactive Poster Session','SATURDAY, MAY 25, 2019','12:30 PM - 1:45 PM','International Terrace (Washington Hilton, Terrace Level)\\n')\n",
    "    talks = ('Stars at giveaway prices? Effects of celebrity, lookalike and avatar endorsers in advertising \\n','Celebrity bashing and empathy - intranasal oxytocin administration reduces the acceptance for online celebrity bashing \\n','The Effect of Scent and Scent Emission Methods: Implications on Sustained Workers’ Alertness, Vigilance, and Memory When Performing Repetitive Tasks Over a Long Duration \\n')\n",
    "    authors = ('Seo Young-nam; Minkyung Kim; Jeremy Sng; Doohwang Lee; Younbo Jung\\n','Konrad J. Rudnicki; Gaëlle Ouvrein; Charlotte De backer\\n','May O. Lwin; Shelly Malik; Jun Rong Jeffrey Neo')\n",
    "    for d in details:\n",
    "        print(d)\n",
    "    for t in zip(talks,authors):\n",
    "        print(*t)"
   ]
  },
  {
   "cell_type": "code",
   "execution_count": null,
   "metadata": {},
   "outputs": [],
   "source": [
    "# Details for session three\n",
    "def session_three():\n",
    "    details = ('Sex, Mating, and Evolution in Media Psychology','SUNDAY, MAY 26, 2019','2:00 PM - 3:15 PM','Oaklawn (Washington Hilton, Lobby Level)\\n')\n",
    "    talks = ('Audience Differences in Stigma-Message Effects: Investigating Moderators of the Model of Stigma Communication \\n','Exploring Links Between Testosterone, Benevolent Sexism, and Rape Myth Acceptance \\n', 'An Integrated Approach to Female Mate Preferences: Testing Evolved Preferences for Male Displays of Dominance and Altruism in Online Dating Profiles \\n','Life History Theory and Individual Variation in Men’s Desire to Appear Muscular \\n','Health Status Can be Judged From the Voice, and More Accurately From Mandarin than English \\n','The decisive fine line - a metaanalytic review on biological variables related to sex differences in media selection, use and effects \\n','Les Prospérités du vice? A research project about female hardcore pornography preferences \\n')\n",
    "    authors = ('Rachel Smith\\n', 'Kara L. Winkler; Amanda Denes; John P. Crowley; Margaret Bennett; Anuraj Dhillon; Ambyre L. Ponivas\\n','Stephanie T. Tong; Robert G. Matheny\\n','Alexander K. Aune\\n','Afsoon D. Hansia; Scott Reid\\n','Maximilian T. von Andrian-Werburg; Liv Bierhalter; Iris Guehring; Benjamin P. Lange\\n','Maximilian T. von Andrian-Werburg; Sascha Schwarz; Benjamin P. Lange; Liv Bierhalter; Pauline Zahn; Frank Schwab')\n",
    "    for d in details:\n",
    "        print(d)\n",
    "    for t in zip(talks,authors):\n",
    "        print(*t)"
   ]
  },
  {
   "cell_type": "code",
   "execution_count": null,
   "metadata": {},
   "outputs": [],
   "source": [
    "session_one()"
   ]
  },
  {
   "cell_type": "code",
   "execution_count": null,
   "metadata": {},
   "outputs": [],
   "source": [
    "session_two()"
   ]
  },
  {
   "cell_type": "code",
   "execution_count": null,
   "metadata": {},
   "outputs": [],
   "source": [
    "session_three()"
   ]
  },
  {
   "cell_type": "code",
   "execution_count": null,
   "metadata": {},
   "outputs": [],
   "source": []
  }
 ],
 "metadata": {
  "kernelspec": {
   "display_name": "Python 3",
   "language": "python",
   "name": "python3"
  },
  "language_info": {
   "codemirror_mode": {
    "name": "ipython",
    "version": 3
   },
   "file_extension": ".py",
   "mimetype": "text/x-python",
   "name": "python",
   "nbconvert_exporter": "python",
   "pygments_lexer": "ipython3",
   "version": "3.6.5"
  }
 },
 "nbformat": 4,
 "nbformat_minor": 2
}
