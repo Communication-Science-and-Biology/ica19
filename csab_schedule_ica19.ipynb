{
 "cells": [
  {
   "cell_type": "code",
   "execution_count": null,
   "metadata": {},
   "outputs": [],
   "source": [
    "# This notebook provides details the ICA19 CSaB conference schedule\n",
    "# We are pleased to announce:\n",
    "    # Six sessions\n",
    "    # One interactive poster session\n",
    "    # A business meeting\n",
    "    # Joint reception with Information Systems, Computational Methods, and Game Studies\n",
    "        # SUNDAY, MAY 26, 2019\n",
    "        # 6:00pm - Late\n",
    "        # Madhatter (1319 Connecticut Ave NW, Washington, DC 20036)\n",
    "        # http://www.madhatterdc.com/\n",
    "\n",
    "# NB: Sessions are organized in chronological order"
   ]
  },
  {
   "cell_type": "code",
   "execution_count": null,
   "metadata": {},
   "outputs": [],
   "source": [
    "# Import Pandas\n",
    "import pandas as pd\n",
    "\n",
    "# Read in ICA schedule CSV - assumes file is in current working directory\n",
    "data = pd.read_csv('ica_schedule.csv', index_col = 'Session or Event Date')\n",
    "\n",
    "# Drop irrelevant columns\n",
    "data = data.drop(['Session or Event Division/Interest Group','Session or Event Type','Session or Event Details','Session or Event End Time','Session or Event Participants/Hosts','Submission or Placeholder Start Time','Submission or Placeholder End Time','Submission Status','Session Submission Sort Order','The Program Report was last updated March 06, 2019 at 12:38 AM EST. To view the most recent meeting schedule online, visit https://ica2019.abstractcentral.com/planner.jsp'],axis=1)\n",
    "\n",
    "# Rename columns for readability\n",
    "data = data.rename(columns={'Session or Event Start Time':'Time','Session or Event Title':'Title','Session or Event Location':'Location','Submission or Placeholder Title':'Talk Title','Submission Authors':'Authors'})\n",
    "\n",
    "# Show entire cell content\n",
    "pd.set_option('display.max_colwidth', -1)"
   ]
  },
  {
   "cell_type": "code",
   "execution_count": null,
   "metadata": {},
   "outputs": [],
   "source": [
    "# Session Details: The Biology of Health, Fear, and Risk Perceptions\n",
    "session_one = data[data['Title'].str.contains('The Biology of Health, Fear, and Risk Perceptions')]\n",
    "session_one"
   ]
  },
  {
   "cell_type": "code",
   "execution_count": null,
   "metadata": {},
   "outputs": [],
   "source": [
    "# Session Details: Poster Session\n",
    "poster_session = data[data['Title'].str.contains('Communication Science and Biology Interactive Poster Session')]\n",
    "poster_session"
   ]
  },
  {
   "cell_type": "code",
   "execution_count": null,
   "metadata": {},
   "outputs": [],
   "source": [
    "# Session Details: Sex, Mating, and Evolution in Media Psychology\n",
    "session_two = data[data['Title'].str.contains('Sex, Mating, and Evolution in Media Psychology')]\n",
    "session_two"
   ]
  },
  {
   "cell_type": "code",
   "execution_count": null,
   "metadata": {},
   "outputs": [],
   "source": [
    "# Session Details: Biology, Politics, and Morality\n",
    "session_three = data[data['Title'].str.contains('Biology, Politics, and Morality')]\n",
    "session_three"
   ]
  },
  {
   "cell_type": "code",
   "execution_count": null,
   "metadata": {},
   "outputs": [],
   "source": [
    "# Session Details: Foundations of Media Effects in Communication Science and Biology\n",
    "session_four = data[data['Title'].str.contains('Foundations of Media Effects in Communication Science and Biology')]\n",
    "session_four"
   ]
  },
  {
   "cell_type": "code",
   "execution_count": null,
   "metadata": {},
   "outputs": [],
   "source": [
    "# Session Details: Best Practices in Training and Mentoring New Graduate Students and Research Assistants on Practical Replication and Data Sharing Issues\n",
    "session_five = data[data['Title'].str.contains('Best Practices in Training and Mentoring New Graduate Students and Research Assistants on Practical Replication and Data Sharing Issues')]\n",
    "session_five"
   ]
  },
  {
   "cell_type": "code",
   "execution_count": null,
   "metadata": {},
   "outputs": [],
   "source": [
    "# Session Details: Business Meeting\n",
    "business_meeting = data[data['Title'].str.contains('Communication Science and Biology Business Meeting')]\n",
    "business_meeting"
   ]
  },
  {
   "cell_type": "code",
   "execution_count": null,
   "metadata": {},
   "outputs": [],
   "source": [
    "# Session Details: The Social Life of the Brain: Norms and Networks\n",
    "session_six = data[data['Title'].str.contains('The Social Life of the Brain: Norms and Networks')]\n",
    "session_six"
   ]
  }
 ],
 "metadata": {
  "kernelspec": {
   "display_name": "Python 3",
   "language": "python",
   "name": "python3"
  },
  "language_info": {
   "codemirror_mode": {
    "name": "ipython",
    "version": 3
   },
   "file_extension": ".py",
   "mimetype": "text/x-python",
   "name": "python",
   "nbconvert_exporter": "python",
   "pygments_lexer": "ipython3",
   "version": "3.7.0"
  }
 },
 "nbformat": 4,
 "nbformat_minor": 2
}
